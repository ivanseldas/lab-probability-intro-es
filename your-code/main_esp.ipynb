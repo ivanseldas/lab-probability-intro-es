{
 "cells": [
  {
   "cell_type": "markdown",
   "metadata": {},
   "source": [
    "# Probability"
   ]
  },
  {
   "cell_type": "markdown",
   "metadata": {},
   "source": [
    "## Reto 1\n",
    "Hay una caja con 10 bolas blancas, 12 bolas rojas y 8 bolas negras. Calcula la probabilidad de:\n",
    "* Sacar una bola blanca.\n",
    "* Sacar una bola blanca en la primera extracción y una bola negra en la segunda extracción sin reemplazar la primera.\n",
    "* Sacar una bola blanca en la primera extracción y una bola negra en la segunda extracción reemplazando la primera.\n",
    "* Sacar 3 bolas y que sean todas de diferentes colores."
   ]
  },
  {
   "cell_type": "code",
   "execution_count": 17,
   "metadata": {},
   "outputs": [
    {
     "name": "stdout",
     "output_type": "stream",
     "text": [
      "p_1 = 0.3333333333333333\n",
      "p_2 = 0.09195402298850575\n",
      "p_3 = 0.08888888888888888\n",
      "p_4 = 0.23645320197044334\n"
     ]
    }
   ],
   "source": [
    "# Data\n",
    "white = 10\n",
    "red = 12\n",
    "black = 8\n",
    "all = white + red + black\n",
    "\n",
    "# 1. White ball probability\n",
    "\n",
    "p_white = white / all\n",
    "print(f'p_1 = {p_white}')\n",
    "\n",
    "# 2. First white ball second black ball without replacement\n",
    "p_black_replacement = black / (all - 1) \n",
    "p_2 = p_white * p_black_replacement\n",
    "print(f'p_2 = {p_2}')\n",
    "\n",
    "# 3. First white then black ball with replacement\n",
    "p_black = black / all\n",
    "p_3 = p_white * p_black\n",
    "print(f'p_3 = {p_3}')\n",
    "\n",
    "\n",
    "# 4. 3 balls with different colors\n",
    "p_red = red / all\n",
    "p_4 = 10/30 * 12/29 * 8/28 * 3*2*1\n",
    "print(f'p_4 = {p_4}')"
   ]
  },
  {
   "cell_type": "markdown",
   "metadata": {},
   "source": [
    "## Reto 2\n",
    "\n",
    "Quieres ir de picnic el sábado. Odias la lluvia y quieres planificar tu fin de semana. Para ayudarte a tomar una decisión, recopilas los siguientes datos sobre los días lluviosos:\n",
    "\n",
    "* El 40% de todos los días están nublados.\n",
    "* Aproximadamente el 50% de los días nublados son lluviosos.\n",
    "* Aproximadamente el 20% de los días no nublados son lluviosos.\n",
    "\n",
    "¿Cuál es la probabilidad de que llueva el próximo sábado?"
   ]
  },
  {
   "cell_type": "code",
   "execution_count": 18,
   "metadata": {},
   "outputs": [
    {
     "name": "stdout",
     "output_type": "stream",
     "text": [
      "p_lluvia = 0.32\n"
     ]
    }
   ],
   "source": [
    "p_lluvia = 0.4 * 0.5 + 0.6 * 0.2 \n",
    "print(f'p_lluvia = {p_lluvia}')"
   ]
  },
  {
   "cell_type": "markdown",
   "metadata": {},
   "source": [
    "## Reto 3\n",
    "\n",
    "A y B son eventos de una probabilidad tal que \\(P(A) = 0.3\\), \\(P(B) = 0.6\\) y \\(P(A \\cap B) = 0.1\\)\n",
    "\n",
    "¿Cuáles de las siguientes afirmaciones son verdaderas?\n",
    "**SUGERENCIA: dibuja un gran diagrama de Venn a tu lado**\n",
    "* \\(P(\\overline{A}) = 0.7\\)\n",
    "* \\(P(A \\cup B) = 0.6\\)\n",
    "* \\(P(A \\cap \\overline{B}) = 0.2\\)\n",
    "* \\(P(A \\cup \\overline{A}) = 1\\)  \n",
    "* \\(P(A \\cap (B \\cup \\overline{B})) = 0.4\\)\n",
    "* \\(P(\\overline{A} \\cap \\overline{B}) = 0.3\\)\n",
    "* \\(P(\\overline{A \\cap B}) = 0.9\\)"
   ]
  },
  {
   "cell_type": "code",
   "execution_count": null,
   "metadata": {},
   "outputs": [],
   "source": [
    "# YOUR CODE HERE"
   ]
  },
  {
   "cell_type": "markdown",
   "metadata": {},
   "source": [
    "## Reto 4\n",
    "\n",
    "* Si alguien viaja a China, la probabilidad de contraer Covid es del 1%\n",
    "* Si alguien viaja a Italia, la probabilidad de contraer Covid es del 20%\n",
    "\n",
    "Lanzo un dado con números 1, 2, 3, 4, 5, 6:\n",
    "* Si sale 1: Vuelo a Italia\n",
    "* Si no sale 1: Vuelo a China\n",
    "\n",
    "Durante mi viaje, contraje Covid. ¿Cuál es la probabilidad de que haya volado a China?"
   ]
  },
  {
   "cell_type": "code",
   "execution_count": 27,
   "metadata": {},
   "outputs": [
    {
     "name": "stdout",
     "output_type": "stream",
     "text": [
      "Probabily of having fled to China given that I got Covid: 0.2\n"
     ]
    }
   ],
   "source": [
    "# P(B): contraer covid\n",
    "p_b = 0.01 * 5/6 + 0.2 * 1/6\n",
    "\n",
    "# P(A): volar a China\n",
    "p_a = 5/6\n",
    "\n",
    "# P(B|A): tener el covid dado que he ido a China\n",
    "p_b_a = 0.01 \n",
    "\n",
    "# P(A|B): volar a China dado que tengo el covid\n",
    "p_a_b = p_b_a * p_a / p_b\n",
    "\n",
    "print(f'Probabily of having fled to China given that I got Covid: {p_a_b}')"
   ]
  },
  {
   "cell_type": "markdown",
   "metadata": {},
   "source": [
    "## BONUS\n",
    "\n",
    "Lanzas 2 dados. ¿Cuál es la probabilidad de que la suma de los números sea 7? ¿Y 8? ¿Y 9? Luego simula 10000 veces y dibuja un gráfico de conteo.\n",
    "\n",
    "tu explicación aquí"
   ]
  },
  {
   "cell_type": "code",
   "execution_count": 80,
   "metadata": {},
   "outputs": [
    {
     "name": "stdout",
     "output_type": "stream",
     "text": [
      "Probabily of getting a 7 = 0.16666666666666666\n"
     ]
    }
   ],
   "source": [
    "\"\"\"\n",
    "Probabilidad de obtener un 7:\n",
    "1 + 6\n",
    "2 + 4\n",
    "3 + 4\n",
    "4 + 3\n",
    "5 + 2\n",
    "6 + 1\n",
    "\"\"\"\n",
    "\n",
    "Total_comb_7 = 6\n",
    "Total_comb = 6*6\n",
    "p_7 = Total_comb_7 / Total_comb\n",
    "print(f'Probabily of getting a 7 = {p_7}')"
   ]
  },
  {
   "cell_type": "code",
   "execution_count": 157,
   "metadata": {},
   "outputs": [
    {
     "data": {
      "text/plain": [
       "<AxesSubplot:xlabel='number'>"
      ]
     },
     "execution_count": 157,
     "metadata": {},
     "output_type": "execute_result"
    },
    {
     "data": {
      "image/png": "[encoded data removed]",
      "text/plain": [
       "<Figure size 432x288 with 1 Axes>"
      ]
     },
     "metadata": {
      "needs_background": "light"
     },
     "output_type": "display_data"
    }
   ],
   "source": [
    "import numpy as np\n",
    "import pandas as pd\n",
    "\n",
    "size = 10000\n",
    "\n",
    "dados1 = np.random.randint(1, 7, size)\n",
    "dados2 = np.random.randint(1, 7, size)\n",
    "\n",
    "comb = dados1 + dados2\n",
    "df = pd.DataFrame(pd.Series(comb))\n",
    "df = df.rename(columns={0: 'number'})\n",
    "\n",
    "df.reset_index(inplace=True)\n",
    "df.groupby('number')['index'].count().plot(kind='bar')"
   ]
  }
 ],
 "metadata": {
  "kernelspec": {
   "display_name": "Python 3 (ipykernel)",
   "language": "python",
   "name": "python3"
  },
  "language_info": {
   "codemirror_mode": {
    "name": "ipython",
    "version": 3
   },
   "file_extension": ".py",
   "mimetype": "text/x-python",
   "name": "python",
   "nbconvert_exporter": "python",
   "pygments_lexer": "ipython3",
   "version": "3.10.12"
  },
  "toc": {
   "base_numbering": 1,
   "nav_menu": {},
   "number_sections": false,
   "sideBar": true,
   "skip_h1_title": false,
   "title_cell": "Table of Contents",
   "title_sidebar": "Contents",
   "toc_cell": false,
   "toc_position": {
    "height": "calc(100% - 180px)",
    "left": "10px",
    "top": "150px",
    "width": "296.475px"
   },
   "toc_section_display": true,
   "toc_window_display": false
  },
  "varInspector": {
   "cols": {
    "lenName": 16,
    "lenType": 16,
    "lenVar": 40
   },
   "kernels_config": {
    "python": {
     "delete_cmd_postfix": "",
     "delete_cmd_prefix": "del ",
     "library": "var_list.py",
     "varRefreshCmd": "print(var_dic_list())"
    },
    "r": {
     "delete_cmd_postfix": ") ",
     "delete_cmd_prefix": "rm(",
     "library": "var_list.r",
     "varRefreshCmd": "cat(var_dic_list()) "
    }
   },
   "types_to_exclude": [
    "module",
    "function",
    "builtin_function_or_method",
    "instance",
    "_Feature"
   ],
   "window_display": false
  }
 },
 "nbformat": 4,
 "nbformat_minor": 2
}
